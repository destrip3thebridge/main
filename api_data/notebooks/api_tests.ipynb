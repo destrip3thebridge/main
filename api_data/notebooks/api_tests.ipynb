{
 "cells": [
  {
   "cell_type": "code",
   "execution_count": 1,
   "metadata": {},
   "outputs": [],
   "source": [
    "import pymysql"
   ]
  },
  {
   "cell_type": "code",
   "execution_count": 2,
   "metadata": {},
   "outputs": [],
   "source": [
    "username = \"admin\"\n",
    "password = \"83J%y92vwWgAyvJ%DW%YvXB*\"\n",
    "host = \"database-ocult.crt8burntnnh.us-east-1.rds.amazonaws.com\"\n",
    "port = 3306"
   ]
  },
  {
   "cell_type": "code",
   "execution_count": 4,
   "metadata": {},
   "outputs": [],
   "source": [
    "db = pymysql.connect(host = host,\n",
    "                     user = username,\n",
    "                     password = password,\n",
    "                     cursorclass = pymysql.cursors.DictCursor\n",
    ")\n",
    "\n",
    "# El objeto cursor es el que ejecutará las queries y devolverá los resultados\n",
    "\n",
    "cursor = db.cursor()"
   ]
  },
  {
   "cell_type": "code",
   "execution_count": 5,
   "metadata": {},
   "outputs": [
    {
     "name": "stdout",
     "output_type": "stream",
     "text": [
      "MySQL version: {'VERSION()': '8.0.23'}\n"
     ]
    }
   ],
   "source": [
    "cursor.execute('SELECT VERSION()')\n",
    "version = cursor.fetchone()\n",
    "print(f'MySQL version: {version}')"
   ]
  },
  {
   "cell_type": "markdown",
   "metadata": {},
   "source": [
    "### Get questions"
   ]
  },
  {
   "cell_type": "code",
   "execution_count": 17,
   "metadata": {},
   "outputs": [],
   "source": [
    "connection = pymysql.connect(host = host,\n",
    "                    user = username,\n",
    "                    password = password,\n",
    "                    cursorclass = pymysql.cursors.DictCursor,\n",
    "                    database = 'ocult'\n",
    ")\n",
    "\n",
    "cursor = connection.cursor()\n",
    "select = 'SELECT * FROM question'\n",
    "cursor.execute(select)\n",
    "result_questions = cursor.fetchall()\n",
    "select = 'SELECT * FROM answer'\n",
    "cursor.execute(select)\n",
    "result_answer = cursor.fetchall()\n",
    "connection.close()\n"
   ]
  },
  {
   "cell_type": "code",
   "execution_count": 19,
   "metadata": {},
   "outputs": [
    {
     "name": "stdout",
     "output_type": "stream",
     "text": [
      "2\n",
      "3\n",
      "4\n",
      "5\n",
      "6\n"
     ]
    }
   ],
   "source": [
    "result = []\n",
    "for q in result_questions:\n",
    "    connection = pymysql.connect(host = host,\n",
    "                    user = username,\n",
    "                    password = password,\n",
    "                    cursorclass = pymysql.cursors.DictCursor,\n",
    "                    database = 'ocult'\n",
    ")\n",
    "    cursor = connection.cursor()\n",
    "    select = f'SELECT * FROM answer WHERE idquestion={q[\"idquestion\"]}'\n",
    "    cursor.execute(select)\n",
    "    result_answer = cursor.fetchall()\n",
    "    connection.close()\n",
    "    q['answer'] = result_answer\n",
    "    result.append(q)\n",
    "    print(q['idquestion'])"
   ]
  },
  {
   "cell_type": "code",
   "execution_count": 16,
   "metadata": {},
   "outputs": [
    {
     "data": {
      "text/plain": [
       "[{'idquestion': 2,\n",
       "  'text': '¿Te conectas a un dispositivo ajeno a la empresa?',\n",
       "  'idtest': 1,\n",
       "  'idcat_attack_vector': 1,\n",
       "  'idcat_security_scope': 3,\n",
       "  'score': 1,\n",
       "  'positive_message': '¡¡Efectivamente!! Lo más seguro es evitar conectar tus dispositivos personales a la red de la empresa, eso hará más segura la red y menos fácil el acceso de hackers malintencionados.',\n",
       "  'negative_message': 'El wifi gratis es tentador, pero conectarte a la red de la empresa con tu móvil personal u otro dispositivo ajeno a esta puede permitir el acceso de hackers a la red e infectarla con virus o robar datos importantes o incluso secuestrar la información de la',\n",
       "  'extra_message': None,\n",
       "  'answer': [{'idanswer': 1, 'text': 'Sí', 'idquestion': 2, 'right': 0},\n",
       "   {'idanswer': 2, 'text': 'No', 'idquestion': 2, 'right': 1}]},\n",
       " {'idquestion': 3,\n",
       "  'text': 'Conectad@ a un wifi público lo mejor es revisar tus estados de cuenta',\n",
       "  'idtest': 1,\n",
       "  'idcat_attack_vector': 1,\n",
       "  'idcat_security_scope': 5,\n",
       "  'score': 1,\n",
       "  'positive_message': '¡¡Super cuidados@!! las redes de wifi públicas (cafés, bares, aeropuertos, establecimientos…) no son seguras, pueden haber hackers con programas para ver el tráfico de usuarios y datos en la red y robar estos últimos.',\n",
       "  'negative_message': '¡¡Han robado tus datos!! Las wifis públicas son vulnerables a hackers con programas que les permiten ver quienes están conectados y acceso a sus datos y equipos.',\n",
       "  'extra_message': None,\n",
       "  'answer': [{'idanswer': 3, 'text': 'Sí', 'idquestion': 3, 'right': 0},\n",
       "   {'idanswer': 4, 'text': 'No', 'idquestion': 3, 'right': 1}]},\n",
       " {'idquestion': 4,\n",
       "  'text': 'La contraseña es más segura si tiene:',\n",
       "  'idtest': 1,\n",
       "  'idcat_attack_vector': 1,\n",
       "  'idcat_security_scope': 1,\n",
       "  'score': 1,\n",
       "  'positive_message': '¡¡Claro que sí!! Mientras más variados sean los valores de la contraseña, más difícil es descifrarlas  y más seguras son.',\n",
       "  'negative_message': '¡¡Nos gustaría decir que 123 es segura!! sin embargo sería muy fácil descubrirla y podrían hackear tu cuenta en segundos',\n",
       "  'extra_message': None,\n",
       "  'answer': [{'idanswer': 5, 'text': 'Mi nombre', 'idquestion': 4, 'right': 0},\n",
       "   {'idanswer': 6, 'text': 'Fecha de nacimiento', 'idquestion': 4, 'right': 0},\n",
       "   {'idanswer': 7,\n",
       "    'text': 'Mayúsculas, minúsculas, números y caracteres especiales',\n",
       "    'idquestion': 4,\n",
       "    'right': 1}]},\n",
       " {'idquestion': 5,\n",
       "  'text': '¿Cada cuánto se recomienda cambiar la contraseña?',\n",
       "  'idtest': 1,\n",
       "  'idcat_attack_vector': 1,\n",
       "  'idcat_security_scope': 1,\n",
       "  'score': 1,\n",
       "  'positive_message': '¡¡Super!! estás en lo correcto, las contraseñas se deben cambiar con una frecuencia de 1 mes para mantener más seguras tus plataformas. Los hackers son muy ingeniosos y persistentes, mejor que les cueste.',\n",
       "  'negative_message': '¡¡Sabemos de tu creatividad!! Aún así , hay herramientas que te pueden ayudar a gestionar tus contraseñas (crearlas, guardarlas, etc).',\n",
       "  'extra_message': None,\n",
       "  'answer': [{'idanswer': 8, 'text': 'Cada mes', 'idquestion': 5, 'right': 1},\n",
       "   {'idanswer': 9, 'text': 'Cada seis meses', 'idquestion': 5, 'right': 0},\n",
       "   {'idanswer': 10, 'text': 'Nunca', 'idquestion': 5, 'right': 0}]},\n",
       " {'idquestion': 6,\n",
       "  'text': '¿Cuál de éstas direcciones de correo le parece segura?',\n",
       "  'idtest': 1,\n",
       "  'idcat_attack_vector': 1,\n",
       "  'idcat_security_scope': 1,\n",
       "  'score': 1,\n",
       "  'positive_message': '¡¡Máquina total!! los detalles hacen la diferencia, en el caso de los correos la diferencia entre uno oficial y uno falso puede ser una letra como es el caso de  ayuda@santanderbanko.com.',\n",
       "  'negative_message': '¡¡Cuidado!! Los correos son engañosos porque pueden diferenciarse los oficiales de los falsos por una letra ya sea que sobre, falte o sea diferente al original. al recibir correos verifica la dirección desde donde lo recibes y la información que te piden, ',\n",
       "  'extra_message': None,\n",
       "  'answer': [{'idanswer': 11,\n",
       "    'text': 'ayudabancosantandr@gmail.com',\n",
       "    'idquestion': 6,\n",
       "    'right': 0},\n",
       "   {'idanswer': 12,\n",
       "    'text': 'ayuda@santanderbanko.com',\n",
       "    'idquestion': 6,\n",
       "    'right': 0},\n",
       "   {'idanswer': 13,\n",
       "    'text': 'ayuda@bancosantander.com',\n",
       "    'idquestion': 6,\n",
       "    'right': 1}]}]"
      ]
     },
     "execution_count": 16,
     "metadata": {},
     "output_type": "execute_result"
    }
   ],
   "source": [
    "result\n"
   ]
  },
  {
   "cell_type": "code",
   "execution_count": 14,
   "metadata": {},
   "outputs": [
    {
     "data": {
      "text/plain": [
       "list"
      ]
     },
     "execution_count": 14,
     "metadata": {},
     "output_type": "execute_result"
    }
   ],
   "source": [
    "type(result_questions)"
   ]
  },
  {
   "cell_type": "code",
   "execution_count": 8,
   "metadata": {},
   "outputs": [
    {
     "data": {
      "text/plain": [
       "<pymysql.connections.Connection at 0x1b348a9e508>"
      ]
     },
     "execution_count": 8,
     "metadata": {},
     "output_type": "execute_result"
    }
   ],
   "source": [
    "connection"
   ]
  }
 ],
 "metadata": {
  "interpreter": {
   "hash": "e9fe7e7741b3f19bcd135589f0a4246388c4ceff90e79f616981a3065da97231"
  },
  "kernelspec": {
   "display_name": "Python 3.7.4 64-bit ('course-env': venv)",
   "language": "python",
   "name": "python3"
  },
  "language_info": {
   "codemirror_mode": {
    "name": "ipython",
    "version": 3
   },
   "file_extension": ".py",
   "mimetype": "text/x-python",
   "name": "python",
   "nbconvert_exporter": "python",
   "pygments_lexer": "ipython3",
   "version": "3.7.4"
  },
  "orig_nbformat": 4
 },
 "nbformat": 4,
 "nbformat_minor": 2
}
